{
 "cells": [
  {
   "cell_type": "code",
   "execution_count": 1,
   "id": "90d394b5-31a1-49c3-bc55-8a845631956c",
   "metadata": {},
   "outputs": [],
   "source": [
    "def intro(first_name, last_name, netID):\n",
    "    \n",
    "    print('Welcome to PUI 2022', first_name, last_name, \". Your NYU id is\", netID)\n"
   ]
  },
  {
   "cell_type": "code",
   "execution_count": 2,
   "id": "235e007f-4f0e-43ba-94ab-fb4f58ddd0dc",
   "metadata": {},
   "outputs": [
    {
     "name": "stdout",
     "output_type": "stream",
     "text": [
      "Welcome to PUI 2022 zixin chen . Your NYU id is zc2805\n"
     ]
    }
   ],
   "source": [
    "intro('zixin','chen','zc2805')"
   ]
  },
  {
   "cell_type": "code",
   "execution_count": null,
   "id": "61b8d98b-9b99-40e4-8c06-9bb82ff2bad2",
   "metadata": {},
   "outputs": [],
   "source": []
  }
 ],
 "metadata": {
  "kernelspec": {
   "display_name": "Python 3 (ipykernel)",
   "language": "python",
   "name": "python3"
  },
  "language_info": {
   "codemirror_mode": {
    "name": "ipython",
    "version": 3
   },
   "file_extension": ".py",
   "mimetype": "text/x-python",
   "name": "python",
   "nbconvert_exporter": "python",
   "pygments_lexer": "ipython3",
   "version": "3.9.12"
  }
 },
 "nbformat": 4,
 "nbformat_minor": 5
}
