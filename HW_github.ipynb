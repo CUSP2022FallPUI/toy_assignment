{
  "cells": [
    {
      "cell_type": "markdown",
      "metadata": {
        "id": "OUASZQjuKhYs"
      },
      "source": [
        "# github homework\n",
        "\n",
        "\n",
        "Run the below function ‘intro’ by passing your first name, last name and NYU net ID as arguments. (successful run should print ‘Welcome \"first name\" \"last name\". Your NYU id is \"NYU net ID\"’ as output).\n",
        "\n",
        "\n",
        "Create a new branch in your homework repository. (Branches are important if you need to have a separate workflow in the project or if multiple people are working collaboratively on the same repo.)\n",
        "\n",
        "\n",
        "Upload this file (with printed output) in the new branch created. Write ‘add HW with output’ as commit message.\n",
        "\n",
        "\n",
        "Create a pull request to merge the new branch with the main branch. Review the changes and merge the pull request."
      ]
    },
    {
      "cell_type": "code",
      "execution_count": 4,
      "metadata": {
        "id": "jSY9mMfGKhYu"
      },
      "outputs": [],
      "source": [
        "def intro(first_name, last_name, netID):\n",
        "    \n",
        "    print('Welcome to PUI 2022', first_name, last_name, \". Your NYU id is\", netID)"
      ]
    },
    {
      "cell_type": "code",
      "execution_count": 5,
      "metadata": {
        "colab": {
          "base_uri": "https://localhost:8080/"
        },
        "id": "8RhVy1CvKhYv",
        "outputId": "ddae87db-74a0-40e3-cb68-6fc5da60b331"
      },
      "outputs": [
        {
          "output_type": "stream",
          "name": "stdout",
          "text": [
            "Welcome to PUI 2022 Suming Zhang . Your NYU id is sz2514\n"
          ]
        }
      ],
      "source": [
        "## pass your arguments in the function, remember to pass them as strings\n",
        "\n",
        "intro('Suming','Zhang','sz2514')"
      ]
    },
    {
      "cell_type": "code",
      "execution_count": null,
      "metadata": {
        "id": "6a9nYu-4KhYv"
      },
      "outputs": [],
      "source": []
    }
  ],
  "metadata": {
    "kernelspec": {
      "display_name": "Python 3",
      "language": "python",
      "name": "python3"
    },
    "language_info": {
      "codemirror_mode": {
        "name": "ipython",
        "version": 3
      },
      "file_extension": ".py",
      "mimetype": "text/x-python",
      "name": "python",
      "nbconvert_exporter": "python",
      "pygments_lexer": "ipython3",
      "version": "3.7.6"
    },
    "colab": {
      "provenance": []
    }
  },
  "nbformat": 4,
  "nbformat_minor": 0
}